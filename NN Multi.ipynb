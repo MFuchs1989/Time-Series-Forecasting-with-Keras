{
 "cells": [
  {
   "cell_type": "markdown",
   "metadata": {},
   "source": [
    "# Import the libraries and the data"
   ]
  },
  {
   "cell_type": "code",
   "execution_count": 14,
   "metadata": {},
   "outputs": [],
   "source": [
    "import pandas as pd\n",
    "import numpy as np\n",
    "\n",
    "from sklearn import preprocessing\n",
    "from sklearn import metrics\n",
    "import tensorflow as tf\n",
    "from xgboost import XGBRegressor\n",
    "\n",
    "import matplotlib.pyplot as plt\n",
    "\n",
    "import warnings\n",
    "warnings.filterwarnings(\"ignore\")"
   ]
  },
  {
   "cell_type": "code",
   "execution_count": 15,
   "metadata": {},
   "outputs": [
    {
     "name": "stdout",
     "output_type": "stream",
     "text": [
      "(48204, 9)\n"
     ]
    },
    {
     "data": {
      "text/html": [
       "<div>\n",
       "<style scoped>\n",
       "    .dataframe tbody tr th:only-of-type {\n",
       "        vertical-align: middle;\n",
       "    }\n",
       "\n",
       "    .dataframe tbody tr th {\n",
       "        vertical-align: top;\n",
       "    }\n",
       "\n",
       "    .dataframe thead th {\n",
       "        text-align: right;\n",
       "    }\n",
       "</style>\n",
       "<table border=\"1\" class=\"dataframe\">\n",
       "  <thead>\n",
       "    <tr style=\"text-align: right;\">\n",
       "      <th></th>\n",
       "      <th>holiday</th>\n",
       "      <th>temp</th>\n",
       "      <th>rain_1h</th>\n",
       "      <th>snow_1h</th>\n",
       "      <th>clouds_all</th>\n",
       "      <th>weather_main</th>\n",
       "      <th>weather_description</th>\n",
       "      <th>date_time</th>\n",
       "      <th>traffic_volume</th>\n",
       "    </tr>\n",
       "  </thead>\n",
       "  <tbody>\n",
       "    <tr>\n",
       "      <th>0</th>\n",
       "      <td>None</td>\n",
       "      <td>288.28</td>\n",
       "      <td>0.0</td>\n",
       "      <td>0.0</td>\n",
       "      <td>40</td>\n",
       "      <td>Clouds</td>\n",
       "      <td>scattered clouds</td>\n",
       "      <td>2012-10-02 09:00:00</td>\n",
       "      <td>5545</td>\n",
       "    </tr>\n",
       "    <tr>\n",
       "      <th>1</th>\n",
       "      <td>None</td>\n",
       "      <td>289.36</td>\n",
       "      <td>0.0</td>\n",
       "      <td>0.0</td>\n",
       "      <td>75</td>\n",
       "      <td>Clouds</td>\n",
       "      <td>broken clouds</td>\n",
       "      <td>2012-10-02 10:00:00</td>\n",
       "      <td>4516</td>\n",
       "    </tr>\n",
       "    <tr>\n",
       "      <th>2</th>\n",
       "      <td>None</td>\n",
       "      <td>289.58</td>\n",
       "      <td>0.0</td>\n",
       "      <td>0.0</td>\n",
       "      <td>90</td>\n",
       "      <td>Clouds</td>\n",
       "      <td>overcast clouds</td>\n",
       "      <td>2012-10-02 11:00:00</td>\n",
       "      <td>4767</td>\n",
       "    </tr>\n",
       "    <tr>\n",
       "      <th>3</th>\n",
       "      <td>None</td>\n",
       "      <td>290.13</td>\n",
       "      <td>0.0</td>\n",
       "      <td>0.0</td>\n",
       "      <td>90</td>\n",
       "      <td>Clouds</td>\n",
       "      <td>overcast clouds</td>\n",
       "      <td>2012-10-02 12:00:00</td>\n",
       "      <td>5026</td>\n",
       "    </tr>\n",
       "    <tr>\n",
       "      <th>4</th>\n",
       "      <td>None</td>\n",
       "      <td>291.14</td>\n",
       "      <td>0.0</td>\n",
       "      <td>0.0</td>\n",
       "      <td>75</td>\n",
       "      <td>Clouds</td>\n",
       "      <td>broken clouds</td>\n",
       "      <td>2012-10-02 13:00:00</td>\n",
       "      <td>4918</td>\n",
       "    </tr>\n",
       "  </tbody>\n",
       "</table>\n",
       "</div>"
      ],
      "text/plain": [
       "  holiday    temp  rain_1h  snow_1h  clouds_all weather_main  \\\n",
       "0    None  288.28      0.0      0.0          40       Clouds   \n",
       "1    None  289.36      0.0      0.0          75       Clouds   \n",
       "2    None  289.58      0.0      0.0          90       Clouds   \n",
       "3    None  290.13      0.0      0.0          90       Clouds   \n",
       "4    None  291.14      0.0      0.0          75       Clouds   \n",
       "\n",
       "  weather_description            date_time  traffic_volume  \n",
       "0    scattered clouds  2012-10-02 09:00:00            5545  \n",
       "1       broken clouds  2012-10-02 10:00:00            4516  \n",
       "2     overcast clouds  2012-10-02 11:00:00            4767  \n",
       "3     overcast clouds  2012-10-02 12:00:00            5026  \n",
       "4       broken clouds  2012-10-02 13:00:00            4918  "
      ]
     },
     "execution_count": 15,
     "metadata": {},
     "output_type": "execute_result"
    }
   ],
   "source": [
    "df = pd.read_csv('Metro_Interstate_Traffic_Volume.csv')\n",
    "\n",
    "print(df.shape)\n",
    "df.head()"
   ]
  },
  {
   "cell_type": "markdown",
   "metadata": {},
   "source": [
    "# Definition of required functions"
   ]
  },
  {
   "cell_type": "code",
   "execution_count": 16,
   "metadata": {},
   "outputs": [],
   "source": [
    "def mean_absolute_percentage_error(y_true, y_pred):\n",
    "    '''\n",
    "    Calculate the mean absolute percentage error as a metric for evaluation\n",
    "    \n",
    "    Args:\n",
    "        y_true (float64): Y values for the dependent variable (test part), numpy array of floats \n",
    "        y_pred (float64): Predicted values for the dependen variable (test parrt), numpy array of floats\n",
    "    \n",
    "    Returns:\n",
    "        Mean absolute percentage error \n",
    "    '''    \n",
    "    y_true, y_pred = np.array(y_true), np.array(y_pred)\n",
    "    return np.mean(np.abs((y_true - y_pred) / y_true)) * 100"
   ]
  },
  {
   "cell_type": "code",
   "execution_count": 17,
   "metadata": {},
   "outputs": [],
   "source": [
    "def timeseries_evaluation_metrics_func(y_true, y_pred):\n",
    "    '''\n",
    "    Calculate the following evaluation metrics:\n",
    "        - MSE\n",
    "        - MAE\n",
    "        - RMSE\n",
    "        - MAPE\n",
    "        - R²\n",
    "    \n",
    "    Args:\n",
    "        y_true (float64): Y values for the dependent variable (test part), numpy array of floats \n",
    "        y_pred (float64): Predicted values for the dependen variable (test parrt), numpy array of floats\n",
    "    \n",
    "    Returns:\n",
    "        MSE, MAE, RMSE, MAPE and R² \n",
    "    '''    \n",
    "    #print('Evaluation metric results: ')\n",
    "    print(f'MSE is : {metrics.mean_squared_error(y_true, y_pred)}')\n",
    "    print(f'MAE is : {metrics.mean_absolute_error(y_true, y_pred)}')\n",
    "    print(f'RMSE is : {np.sqrt(metrics.mean_squared_error(y_true, y_pred))}')\n",
    "    print(f'MAPE is : {mean_absolute_percentage_error(y_true, y_pred)}')\n",
    "    print(f'R2 is : {metrics.r2_score(y_true, y_pred)}',end='\\n\\n')"
   ]
  },
  {
   "cell_type": "code",
   "execution_count": 18,
   "metadata": {},
   "outputs": [],
   "source": [
    "def multiple_data_prep_function(predictors, target, start, end, window, horizon):\n",
    "    '''\n",
    "    Prepare univariate data that is suitable for a time series\n",
    "    \n",
    "    Args:\n",
    "        predictors (float64): Scaled values for the predictors, numpy array of floats \n",
    "        target (float64): Scaled values for the target variable, numpy array of floats       \n",
    "        start (int): Start point of range, integer\n",
    "        end (int): End point of range, integer\n",
    "        window (int): Number of units to be viewed per step, integer\n",
    "        horizon (int): Number of units to be predicted, integer\n",
    "    \n",
    "    Returns:\n",
    "        X (float64): Generated X-values for each step, numpy array of floats\n",
    "        y (float64): Generated y-values for each step, numpy array of floats\n",
    "    '''   \n",
    "    X = []\n",
    "    y = []\n",
    "\n",
    "    start = start + window\n",
    "    if end is None:\n",
    "        end = len(predictors) - horizon\n",
    "\n",
    "    for i in range(start, end):\n",
    "        indices = range(i-window, i)\n",
    "        X.append(predictors[indices])\n",
    "        indicey = range(i+1, i+1+horizon)\n",
    "        y.append(target[indicey])\n",
    "    return np.array(X), np.array(y)"
   ]
  },
  {
   "cell_type": "markdown",
   "metadata": {},
   "source": [
    "# Data pre-processing"
   ]
  },
  {
   "cell_type": "markdown",
   "metadata": {},
   "source": [
    "## Drop Duplicates"
   ]
  },
  {
   "cell_type": "code",
   "execution_count": 19,
   "metadata": {},
   "outputs": [
    {
     "data": {
      "text/plain": [
       "(35130, 9)"
      ]
     },
     "execution_count": 19,
     "metadata": {},
     "output_type": "execute_result"
    }
   ],
   "source": [
    "df = df.drop_duplicates(subset=['date_time'], keep=False)\n",
    "\n",
    "df.shape"
   ]
  },
  {
   "cell_type": "markdown",
   "metadata": {},
   "source": [
    "## Feature Encoding"
   ]
  },
  {
   "cell_type": "code",
   "execution_count": 20,
   "metadata": {},
   "outputs": [
    {
     "name": "stdout",
     "output_type": "stream",
     "text": [
      "\n",
      "Shape of new dataframe: (35130, 60)\n"
     ]
    }
   ],
   "source": [
    "# Encode feature 'holiday'\n",
    "dummy_holiday = pd.get_dummies(df['holiday'], prefix=\"holiday\")\n",
    "column_name = df.columns.values.tolist()\n",
    "column_name.remove('holiday')\n",
    "df = df[column_name].join(dummy_holiday)\n",
    "\n",
    "# Encode feature 'weather_main'\n",
    "dummy_weather_main = pd.get_dummies(df['weather_main'], prefix=\"weather_main\")\n",
    "column_name = df.columns.values.tolist()\n",
    "column_name.remove('weather_main')\n",
    "df = df[column_name].join(dummy_weather_main)\n",
    "\n",
    "\n",
    "# Encode feature 'weather_description'\n",
    "dummy_weather_description = pd.get_dummies(df['weather_description'], prefix=\"weather_description\")\n",
    "column_name = df.columns.values.tolist()\n",
    "column_name.remove('weather_description')\n",
    "df = df[column_name].join(dummy_weather_description)\n",
    "\n",
    "# Print final dataframe\n",
    "print()\n",
    "print('Shape of new dataframe: ' + str(df.shape))"
   ]
  },
  {
   "cell_type": "markdown",
   "metadata": {},
   "source": [
    "## Check for Feature Importance"
   ]
  },
  {
   "cell_type": "code",
   "execution_count": 21,
   "metadata": {
    "scrolled": true
   },
   "outputs": [
    {
     "name": "stdout",
     "output_type": "stream",
     "text": [
      "Length of remaining predictors: 58\n",
      "\n",
      "Target Variable: traffic_volume\n"
     ]
    }
   ],
   "source": [
    "column_names_predictors = df.columns.values.tolist()\n",
    "\n",
    "# Exclude target variable and date_time\n",
    "column_names_predictors.remove('traffic_volume')\n",
    "column_names_predictors.remove('date_time')\n",
    "\n",
    "column_name_criterium = 'traffic_volume'\n",
    "\n",
    "print('Length of remaining predictors: ' + str(len(column_names_predictors)))\n",
    "print()\n",
    "print('Target Variable: ' + str(column_name_criterium))"
   ]
  },
  {
   "cell_type": "code",
   "execution_count": 22,
   "metadata": {},
   "outputs": [
    {
     "data": {
      "text/plain": [
       "XGBRegressor(base_score=0.5, booster='gbtree', colsample_bylevel=1,\n",
       "             colsample_bynode=1, colsample_bytree=1, gamma=0, gpu_id=-1,\n",
       "             importance_type='gain', interaction_constraints='',\n",
       "             learning_rate=0.300000012, max_delta_step=0, max_depth=6,\n",
       "             min_child_weight=1, missing=nan, monotone_constraints='()',\n",
       "             n_estimators=100, n_jobs=16, num_parallel_tree=1, random_state=0,\n",
       "             reg_alpha=0, reg_lambda=1, scale_pos_weight=1, subsample=1,\n",
       "             tree_method='exact', validate_parameters=1, verbosity=None)"
      ]
     },
     "execution_count": 22,
     "metadata": {},
     "output_type": "execute_result"
    }
   ],
   "source": [
    "model = XGBRegressor()\n",
    "model.fit(df[column_names_predictors],df[column_name_criterium])"
   ]
  },
  {
   "cell_type": "markdown",
   "metadata": {},
   "source": [
    "importance_type\n",
    "\n",
    "+ `weight` - the number of times a feature is used to split the data across all trees.\n",
    "+ `gain` - the average gain across all splits the feature is used in.\n",
    "+ `cover` - the average coverage across all splits the feature is used in.\n",
    "+ `total_gain` - the total gain across all splits the feature is used in.\n",
    "+ `total_cover` - the total coverage across all splits the feature is used in.\n"
   ]
  },
  {
   "cell_type": "code",
   "execution_count": 23,
   "metadata": {},
   "outputs": [
    {
     "name": "stdout",
     "output_type": "stream",
     "text": [
      "\n",
      "Length of remaining predictors after XGB: 44\n"
     ]
    },
    {
     "data": {
      "image/png": "[encoded data removed]",
      "text/plain": [
       "<Figure size 432x288 with 1 Axes>"
      ]
     },
     "metadata": {
      "needs_background": "light"
     },
     "output_type": "display_data"
    }
   ],
   "source": [
    "feature_important = model.get_booster().get_score(importance_type='gain')\n",
    "keys = list(feature_important.keys())\n",
    "values = list(feature_important.values())\n",
    "\n",
    "data = pd.DataFrame(data=values, index=keys, columns=[\"score\"]).sort_values(by = \"score\", ascending=False)\n",
    "data.plot(kind='barh')\n",
    "\n",
    "print()\n",
    "print('Length of remaining predictors after XGB: ' + str(len(data)))"
   ]
  },
  {
   "cell_type": "code",
   "execution_count": 24,
   "metadata": {},
   "outputs": [
    {
     "name": "stdout",
     "output_type": "stream",
     "text": [
      "\n",
      "Length of features_to_keep: 45\n",
      "(includes 44 predictors and the target variable)\n",
      "\n",
      "Shape of final dataframe: (35130, 45)\n"
     ]
    }
   ],
   "source": [
    "# Get column names of remaining predictors after XGB\n",
    "features_to_keep = list(data.index)\n",
    "# Append name of target variable\n",
    "features_to_keep.append(column_name_criterium)\n",
    "\n",
    "# Create final dataframe\n",
    "final_df = df[features_to_keep]\n",
    "\n",
    "print()\n",
    "print('Length of features_to_keep: ' + str(len(features_to_keep)))\n",
    "print('(includes 44 predictors and the target variable)')\n",
    "print()\n",
    "print('Shape of final dataframe: ' + str(final_df.shape))"
   ]
  },
  {
   "cell_type": "markdown",
   "metadata": {},
   "source": [
    "## Generate Test Set"
   ]
  },
  {
   "cell_type": "code",
   "execution_count": 25,
   "metadata": {},
   "outputs": [
    {
     "data": {
      "text/plain": [
       "(35120, 45)"
      ]
     },
     "execution_count": 25,
     "metadata": {},
     "output_type": "execute_result"
    }
   ],
   "source": [
    "test_data = final_df.tail(10)\n",
    "\n",
    "final_df = final_df.drop(final_df.tail(10).index)\n",
    "\n",
    "final_df.shape"
   ]
  },
  {
   "cell_type": "markdown",
   "metadata": {},
   "source": [
    "## Feature Scaling"
   ]
  },
  {
   "cell_type": "code",
   "execution_count": 26,
   "metadata": {},
   "outputs": [],
   "source": [
    "scaler_x = preprocessing.MinMaxScaler()\n",
    "scaler_y = preprocessing.MinMaxScaler()\n",
    "\n",
    "\n",
    "x_scaled = scaler_x.fit_transform(final_df)\n",
    "y_scaled = scaler_y.fit_transform(final_df[[column_name_criterium]])"
   ]
  },
  {
   "cell_type": "markdown",
   "metadata": {},
   "source": [
    "## Train-Validation Split"
   ]
  },
  {
   "cell_type": "code",
   "execution_count": 27,
   "metadata": {},
   "outputs": [],
   "source": [
    "multi_hist_window_hs = 48\n",
    "horizon_hs = 10\n",
    "train_split_hs = 30000\n",
    "\n",
    "x_train_multi_hs, y_train_multi_hs = multiple_data_prep_function(x_scaled, y_scaled, \n",
    "                                                                 0, train_split_hs, \n",
    "                                                                 multi_hist_window_hs, horizon_hs)\n",
    "\n",
    "x_val_multi_hs, y_val_multi_hs= multiple_data_prep_function(x_scaled, y_scaled, \n",
    "                                                            train_split_hs, None, \n",
    "                                                            multi_hist_window_hs, horizon_hs)"
   ]
  },
  {
   "cell_type": "code",
   "execution_count": 28,
   "metadata": {},
   "outputs": [
    {
     "name": "stdout",
     "output_type": "stream",
     "text": [
      "Length of first Single Window:\n",
      "48\n",
      "\n",
      "Target horizon:\n",
      "[[0.75563187]\n",
      " [0.78475275]\n",
      " [0.86428571]\n",
      " [0.83200549]\n",
      " [0.67403846]\n",
      " [0.48118132]\n",
      " [0.41717033]\n",
      " [0.38763736]\n",
      " [0.27362637]\n",
      " [0.16016484]]\n"
     ]
    }
   ],
   "source": [
    "print ('Length of first Single Window:')\n",
    "print (len(x_train_multi_hs[0]))\n",
    "print()\n",
    "print ('Target horizon:')\n",
    "print (y_train_multi_hs[0])"
   ]
  },
  {
   "cell_type": "markdown",
   "metadata": {},
   "source": [
    "## Prepare training and test data using tf"
   ]
  },
  {
   "cell_type": "code",
   "execution_count": 29,
   "metadata": {},
   "outputs": [],
   "source": [
    "BATCH_SIZE_hs = 256\n",
    "BUFFER_SIZE_hs = 150\n",
    "\n",
    "train_multi_hs = tf.data.Dataset.from_tensor_slices((x_train_multi_hs, y_train_multi_hs))\n",
    "train_multi_hs = train_multi_hs.cache().shuffle(BUFFER_SIZE_hs).batch(BATCH_SIZE_hs).repeat()\n",
    "\n",
    "validation_multi_hs = tf.data.Dataset.from_tensor_slices((x_val_multi_hs, y_val_multi_hs))\n",
    "validation_multi_hs = validation_multi_hs.batch(BATCH_SIZE_hs).repeat()"
   ]
  },
  {
   "cell_type": "markdown",
   "metadata": {},
   "source": [
    "# Neural Networks with mult. predictors"
   ]
  },
  {
   "cell_type": "code",
   "execution_count": 30,
   "metadata": {},
   "outputs": [],
   "source": [
    "n_steps_per_epoch = 117\n",
    "n_validation_steps = 20\n",
    "n_epochs = 100"
   ]
  },
  {
   "cell_type": "markdown",
   "metadata": {},
   "source": [
    "## LSTM"
   ]
  },
  {
   "cell_type": "code",
   "execution_count": 31,
   "metadata": {},
   "outputs": [],
   "source": [
    "model = tf.keras.models.Sequential([\n",
    "    tf.keras.layers.LSTM(100, input_shape=x_train_multi_hs.shape[-2:],return_sequences=True),\n",
    "    tf.keras.layers.Dropout(0.2),\n",
    "    tf.keras.layers.LSTM(units=100,return_sequences=False),\n",
    "    tf.keras.layers.Dropout(0.2),\n",
    "    tf.keras.layers.Dense(units=horizon_hs)])\n",
    "\n",
    "model.compile(loss='mse',\n",
    "              optimizer='adam')"
   ]
  },
  {
   "cell_type": "code",
   "execution_count": 32,
   "metadata": {},
   "outputs": [],
   "source": [
    "model_path = 'model/lstm_model_multi.h5'"
   ]
  },
  {
   "cell_type": "code",
   "execution_count": 33,
   "metadata": {},
   "outputs": [],
   "source": [
    "keras_callbacks = [tf.keras.callbacks.EarlyStopping(monitor='val_loss', \n",
    "                                                    min_delta=0, patience=10, \n",
    "                                                    verbose=1, mode='min'),\n",
    "                   tf.keras.callbacks.ModelCheckpoint(model_path,monitor='val_loss', \n",
    "                                                      save_best_only=True, \n",
    "                                                      mode='min', verbose=0)]"
   ]
  },
  {
   "cell_type": "code",
   "execution_count": 34,
   "metadata": {},
   "outputs": [
    {
     "name": "stdout",
     "output_type": "stream",
     "text": [
      "Epoch 1/100\n",
      "117/117 [==============================] - 28s 192ms/step - loss: 0.1047 - val_loss: 0.0507\n",
      "Epoch 2/100\n",
      "117/117 [==============================] - 19s 159ms/step - loss: 0.0576 - val_loss: 0.0472\n",
      "Epoch 3/100\n",
      "117/117 [==============================] - 18s 158ms/step - loss: 0.0539 - val_loss: 0.0436\n",
      "Epoch 4/100\n",
      "117/117 [==============================] - 19s 164ms/step - loss: 0.0512 - val_loss: 0.0409\n",
      "Epoch 5/100\n",
      "117/117 [==============================] - 19s 165ms/step - loss: 0.0493 - val_loss: 0.0385\n",
      "Epoch 6/100\n",
      "117/117 [==============================] - 19s 164ms/step - loss: 0.0475 - val_loss: 0.0366\n",
      "Epoch 7/100\n",
      "117/117 [==============================] - 19s 165ms/step - loss: 0.0466 - val_loss: 0.0351\n",
      "Epoch 8/100\n",
      "117/117 [==============================] - 19s 163ms/step - loss: 0.0458 - val_loss: 0.0344\n",
      "Epoch 9/100\n",
      "117/117 [==============================] - 19s 159ms/step - loss: 0.0449 - val_loss: 0.0337\n",
      "Epoch 10/100\n",
      "117/117 [==============================] - 19s 158ms/step - loss: 0.0439 - val_loss: 0.0336\n",
      "Epoch 11/100\n",
      "117/117 [==============================] - 19s 159ms/step - loss: 0.0428 - val_loss: 0.0324\n",
      "Epoch 12/100\n",
      "117/117 [==============================] - 20s 167ms/step - loss: 0.0420 - val_loss: 0.0326\n",
      "Epoch 13/100\n",
      "117/117 [==============================] - 20s 165ms/step - loss: 0.0412 - val_loss: 0.0318\n",
      "Epoch 14/100\n",
      "117/117 [==============================] - 19s 159ms/step - loss: 0.0405 - val_loss: 0.0317\n",
      "Epoch 15/100\n",
      "117/117 [==============================] - 19s 164ms/step - loss: 0.0398 - val_loss: 0.0316\n",
      "Epoch 16/100\n",
      "117/117 [==============================] - 19s 159ms/step - loss: 0.0394 - val_loss: 0.0315\n",
      "Epoch 17/100\n",
      "117/117 [==============================] - 19s 159ms/step - loss: 0.0387 - val_loss: 0.0314\n",
      "Epoch 18/100\n",
      "117/117 [==============================] - 20s 168ms/step - loss: 0.0384 - val_loss: 0.0315\n",
      "Epoch 19/100\n",
      "117/117 [==============================] - 20s 167ms/step - loss: 0.0377 - val_loss: 0.0317\n",
      "Epoch 20/100\n",
      "117/117 [==============================] - 19s 162ms/step - loss: 0.0372 - val_loss: 0.0316\n",
      "Epoch 21/100\n",
      "117/117 [==============================] - 21s 179ms/step - loss: 0.0368 - val_loss: 0.0319\n",
      "Epoch 22/100\n",
      "117/117 [==============================] - 22s 187ms/step - loss: 0.0363 - val_loss: 0.0316\n",
      "Epoch 23/100\n",
      "117/117 [==============================] - 21s 181ms/step - loss: 0.0357 - val_loss: 0.0321\n",
      "Epoch 24/100\n",
      "117/117 [==============================] - 20s 174ms/step - loss: 0.0353 - val_loss: 0.0316\n",
      "Epoch 25/100\n",
      "117/117 [==============================] - 20s 168ms/step - loss: 0.0348 - val_loss: 0.0305\n",
      "Epoch 26/100\n",
      "117/117 [==============================] - 20s 173ms/step - loss: 0.0345 - val_loss: 0.0310\n",
      "Epoch 27/100\n",
      "117/117 [==============================] - 22s 184ms/step - loss: 0.0338 - val_loss: 0.0308\n",
      "Epoch 28/100\n",
      "117/117 [==============================] - 21s 181ms/step - loss: 0.0334 - val_loss: 0.0302\n",
      "Epoch 29/100\n",
      "117/117 [==============================] - 21s 182ms/step - loss: 0.0328 - val_loss: 0.0304\n",
      "Epoch 30/100\n",
      "117/117 [==============================] - 21s 183ms/step - loss: 0.0323 - val_loss: 0.0304\n",
      "Epoch 31/100\n",
      "117/117 [==============================] - 19s 165ms/step - loss: 0.0316 - val_loss: 0.0310\n",
      "Epoch 32/100\n",
      "117/117 [==============================] - 21s 183ms/step - loss: 0.0310 - val_loss: 0.0311\n",
      "Epoch 33/100\n",
      "117/117 [==============================] - 22s 187ms/step - loss: 0.0306 - val_loss: 0.0327\n",
      "Epoch 34/100\n",
      "117/117 [==============================] - 21s 180ms/step - loss: 0.0303 - val_loss: 0.0315\n",
      "Epoch 35/100\n",
      "117/117 [==============================] - 23s 193ms/step - loss: 0.0296 - val_loss: 0.0317\n",
      "Epoch 36/100\n",
      "117/117 [==============================] - 22s 185ms/step - loss: 0.0294 - val_loss: 0.0309\n",
      "Epoch 37/100\n",
      "117/117 [==============================] - 19s 162ms/step - loss: 0.0288 - val_loss: 0.0317\n",
      "Epoch 38/100\n",
      "117/117 [==============================] - 22s 191ms/step - loss: 0.0284 - val_loss: 0.0319\n",
      "Epoch 00038: early stopping\n"
     ]
    }
   ],
   "source": [
    "history = model.fit(train_multi_hs, epochs=n_epochs, steps_per_epoch=n_steps_per_epoch,\n",
    "                    validation_data=validation_multi_hs, validation_steps=n_validation_steps, verbose =1,\n",
    "                    callbacks = keras_callbacks)"
   ]
  },
  {
   "cell_type": "code",
   "execution_count": 35,
   "metadata": {},
   "outputs": [
    {
     "data": {
      "image/png": "[encoded data removed]",
      "text/plain": [
       "<Figure size 432x288 with 1 Axes>"
      ]
     },
     "metadata": {
      "needs_background": "light"
     },
     "output_type": "display_data"
    }
   ],
   "source": [
    "loss = history.history['loss']\n",
    "val_loss = history.history['val_loss']\n",
    "\n",
    "epochs = range(1, len(loss) + 1)\n",
    "\n",
    "\n",
    "plt.plot(epochs, loss, 'bo', label='Training loss')\n",
    "plt.plot(epochs, val_loss, 'b', label='Validation loss')\n",
    "plt.title('Training and validation loss')\n",
    "plt.legend()\n",
    "\n",
    "plt.show()"
   ]
  },
  {
   "cell_type": "code",
   "execution_count": 36,
   "metadata": {},
   "outputs": [],
   "source": [
    "trained_lstm_model_multi = tf.keras.models.load_model(model_path)"
   ]
  },
  {
   "cell_type": "code",
   "execution_count": null,
   "metadata": {},
   "outputs": [],
   "source": []
  },
  {
   "cell_type": "code",
   "execution_count": 37,
   "metadata": {},
   "outputs": [
    {
     "data": {
      "text/plain": [
       "array([[0.14933552, 0.09497797, 0.12894598, 0.2421976 , 0.45351368,\n",
       "        0.66217625, 0.78231215, 0.7868529 , 0.7606578 , 0.70402336]],\n",
       "      dtype=float32)"
      ]
     },
     "execution_count": 37,
     "metadata": {},
     "output_type": "execute_result"
    }
   ],
   "source": [
    "df_temp = df[features_to_keep]\n",
    "test_horizon = df_temp.tail(multi_hist_window_hs)\n",
    "test_history = test_horizon.values\n",
    "\n",
    "\n",
    "test_scaled = scaler_x.fit_transform(test_history)\n",
    "test_scaled = test_scaled.reshape(1, test_scaled.shape[0], test_scaled.shape[1])\n",
    "\n",
    "# Inserting the model\n",
    "predicted_results = trained_lstm_model_multi.predict(test_scaled)\n",
    "predicted_results"
   ]
  },
  {
   "cell_type": "code",
   "execution_count": 38,
   "metadata": {},
   "outputs": [
    {
     "data": {
      "text/plain": [
       "array([[1087.1626 ,  691.43964,  938.7267 , 1763.1986 , 3301.5796 ,\n",
       "        4820.643  , 5695.2324 , 5728.289  , 5537.589  , 5125.29   ]],\n",
       "      dtype=float32)"
      ]
     },
     "execution_count": 38,
     "metadata": {},
     "output_type": "execute_result"
    }
   ],
   "source": [
    "predicted_inv_trans = scaler_y.inverse_transform(predicted_results)\n",
    "predicted_inv_trans"
   ]
  },
  {
   "cell_type": "code",
   "execution_count": 39,
   "metadata": {},
   "outputs": [
    {
     "name": "stdout",
     "output_type": "stream",
     "text": [
      "MSE is : 10021816.465203185\n",
      "MAE is : 2957.593634033203\n",
      "RMSE is : 3165.725266854846\n",
      "MAPE is : 133.7328004076847\n",
      "R2 is : -5.506314096931108\n",
      "\n"
     ]
    }
   ],
   "source": [
    "timeseries_evaluation_metrics_func(test_data[column_name_criterium], predicted_inv_trans[0])"
   ]
  },
  {
   "cell_type": "code",
   "execution_count": 40,
   "metadata": {},
   "outputs": [],
   "source": [
    "rmse_lstm_model_multi = np.sqrt(metrics.mean_squared_error(test_data[column_name_criterium], predicted_inv_trans[0]))"
   ]
  },
  {
   "cell_type": "code",
   "execution_count": 41,
   "metadata": {},
   "outputs": [
    {
     "data": {
      "image/png": "[encoded data removed]",
      "text/plain": [
       "<Figure size 432x288 with 1 Axes>"
      ]
     },
     "metadata": {
      "needs_background": "light"
     },
     "output_type": "display_data"
    }
   ],
   "source": [
    "plt.plot(list(test_data[column_name_criterium]))\n",
    "plt.plot(list(predicted_inv_trans[0]))\n",
    "plt.title(\"Actual vs Predicted\")\n",
    "plt.ylabel(\"Traffic volume\")\n",
    "plt.legend(('Actual','predicted'))\n",
    "plt.show()"
   ]
  },
  {
   "cell_type": "markdown",
   "metadata": {},
   "source": [
    "## Bidirectional LSTM"
   ]
  },
  {
   "cell_type": "code",
   "execution_count": 42,
   "metadata": {},
   "outputs": [],
   "source": [
    "model = tf.keras.models.Sequential([\n",
    "    tf.keras.layers.Bidirectional(tf.keras.layers.LSTM(150, return_sequences=True), \n",
    "                                  input_shape=x_train_multi_hs.shape[-2:]),\n",
    "    tf.keras.layers.Bidirectional(tf.keras.layers.LSTM(50)),\n",
    "    tf.keras.layers.Dense(20, activation='tanh'),\n",
    "    tf.keras.layers.Dropout(0.2),\n",
    "    tf.keras.layers.Dense(units=horizon_hs)])\n",
    "\n",
    "model.compile(loss='mse',\n",
    "              optimizer='adam')"
   ]
  },
  {
   "cell_type": "code",
   "execution_count": 43,
   "metadata": {},
   "outputs": [],
   "source": [
    "model_path = 'model/bi_lstm_model_multi.h5'"
   ]
  },
  {
   "cell_type": "code",
   "execution_count": 44,
   "metadata": {},
   "outputs": [],
   "source": [
    "keras_callbacks = [tf.keras.callbacks.EarlyStopping(monitor='val_loss', \n",
    "                                                    min_delta=0, patience=10, \n",
    "                                                    verbose=1, mode='min'),\n",
    "                   tf.keras.callbacks.ModelCheckpoint(model_path,monitor='val_loss', \n",
    "                                                      save_best_only=True, \n",
    "                                                      mode='min', verbose=0)]"
   ]
  },
  {
   "cell_type": "code",
   "execution_count": 45,
   "metadata": {},
   "outputs": [
    {
     "name": "stdout",
     "output_type": "stream",
     "text": [
      "Epoch 1/100\n",
      "117/117 [==============================] - 115s 931ms/step - loss: 0.1124 - val_loss: 0.0578\n",
      "Epoch 2/100\n",
      "117/117 [==============================] - 89s 759ms/step - loss: 0.0644 - val_loss: 0.0466\n",
      "Epoch 3/100\n",
      "117/117 [==============================] - 92s 790ms/step - loss: 0.0555 - val_loss: 0.0417\n",
      "Epoch 4/100\n",
      "117/117 [==============================] - 91s 777ms/step - loss: 0.0516 - val_loss: 0.0421\n",
      "Epoch 5/100\n",
      "117/117 [==============================] - 92s 787ms/step - loss: 0.0489 - val_loss: 0.0374\n",
      "Epoch 6/100\n",
      "117/117 [==============================] - 92s 785ms/step - loss: 0.0467 - val_loss: 0.0374\n",
      "Epoch 7/100\n",
      "117/117 [==============================] - 92s 785ms/step - loss: 0.0452 - val_loss: 0.0354\n",
      "Epoch 8/100\n",
      "117/117 [==============================] - 94s 801ms/step - loss: 0.0435 - val_loss: 0.0348\n",
      "Epoch 9/100\n",
      "117/117 [==============================] - 94s 803ms/step - loss: 0.0425 - val_loss: 0.0325\n",
      "Epoch 10/100\n",
      "117/117 [==============================] - 94s 801ms/step - loss: 0.0412 - val_loss: 0.0320\n",
      "Epoch 11/100\n",
      "117/117 [==============================] - 96s 814ms/step - loss: 0.0405 - val_loss: 0.0322\n",
      "Epoch 12/100\n",
      "117/117 [==============================] - 96s 823ms/step - loss: 0.0399 - val_loss: 0.0314\n",
      "Epoch 13/100\n",
      "117/117 [==============================] - 82s 704ms/step - loss: 0.0393 - val_loss: 0.0319\n",
      "Epoch 14/100\n",
      "117/117 [==============================] - 72s 617ms/step - loss: 0.0386 - val_loss: 0.0323\n",
      "Epoch 15/100\n",
      "117/117 [==============================] - 72s 615ms/step - loss: 0.0382 - val_loss: 0.0316\n",
      "Epoch 16/100\n",
      "117/117 [==============================] - 74s 636ms/step - loss: 0.0375 - val_loss: 0.0317\n",
      "Epoch 17/100\n",
      "117/117 [==============================] - 74s 632ms/step - loss: 0.0366 - val_loss: 0.0320\n",
      "Epoch 18/100\n",
      "117/117 [==============================] - 72s 613ms/step - loss: 0.0360 - val_loss: 0.0310\n",
      "Epoch 19/100\n",
      "117/117 [==============================] - 75s 639ms/step - loss: 0.0354 - val_loss: 0.0311\n",
      "Epoch 20/100\n",
      "117/117 [==============================] - 74s 632ms/step - loss: 0.0346 - val_loss: 0.0319\n",
      "Epoch 21/100\n",
      "117/117 [==============================] - 74s 632ms/step - loss: 0.0343 - val_loss: 0.0313\n",
      "Epoch 22/100\n",
      "117/117 [==============================] - 74s 629ms/step - loss: 0.0336 - val_loss: 0.0314\n",
      "Epoch 23/100\n",
      "117/117 [==============================] - 73s 623ms/step - loss: 0.0331 - val_loss: 0.0326\n",
      "Epoch 24/100\n",
      "117/117 [==============================] - 75s 638ms/step - loss: 0.0327 - val_loss: 0.0320\n",
      "Epoch 25/100\n",
      "117/117 [==============================] - 74s 637ms/step - loss: 0.0322 - val_loss: 0.0324\n",
      "Epoch 26/100\n",
      "117/117 [==============================] - 73s 627ms/step - loss: 0.0315 - val_loss: 0.0309\n",
      "Epoch 27/100\n",
      "117/117 [==============================] - 73s 621ms/step - loss: 0.0307 - val_loss: 0.0304\n",
      "Epoch 28/100\n",
      "117/117 [==============================] - 74s 633ms/step - loss: 0.0298 - val_loss: 0.0290\n",
      "Epoch 29/100\n",
      "117/117 [==============================] - 75s 639ms/step - loss: 0.0293 - val_loss: 0.0283\n",
      "Epoch 30/100\n",
      "117/117 [==============================] - 75s 641ms/step - loss: 0.0286 - val_loss: 0.0285\n",
      "Epoch 31/100\n",
      "117/117 [==============================] - 74s 635ms/step - loss: 0.0281 - val_loss: 0.0304\n",
      "Epoch 32/100\n",
      "117/117 [==============================] - 76s 651ms/step - loss: 0.0273 - val_loss: 0.0288\n",
      "Epoch 33/100\n",
      "117/117 [==============================] - 75s 640ms/step - loss: 0.0269 - val_loss: 0.0292\n",
      "Epoch 34/100\n",
      "117/117 [==============================] - 75s 645ms/step - loss: 0.0265 - val_loss: 0.0282\n",
      "Epoch 35/100\n",
      "117/117 [==============================] - 75s 644ms/step - loss: 0.0258 - val_loss: 0.0294\n",
      "Epoch 36/100\n",
      "117/117 [==============================] - 72s 619ms/step - loss: 0.0256 - val_loss: 0.0297\n",
      "Epoch 37/100\n",
      "117/117 [==============================] - 76s 649ms/step - loss: 0.0248 - val_loss: 0.0293\n",
      "Epoch 38/100\n",
      "117/117 [==============================] - 75s 639ms/step - loss: 0.0244 - val_loss: 0.0302\n",
      "Epoch 39/100\n",
      "117/117 [==============================] - 75s 644ms/step - loss: 0.0237 - val_loss: 0.0306\n",
      "Epoch 40/100\n",
      "117/117 [==============================] - 74s 634ms/step - loss: 0.0226 - val_loss: 0.0306\n",
      "Epoch 41/100\n",
      "117/117 [==============================] - 76s 646ms/step - loss: 0.0224 - val_loss: 0.0300\n",
      "Epoch 42/100\n",
      "117/117 [==============================] - 77s 657ms/step - loss: 0.0220 - val_loss: 0.0306\n",
      "Epoch 43/100\n",
      "117/117 [==============================] - 74s 633ms/step - loss: 0.0217 - val_loss: 0.0303\n",
      "Epoch 44/100\n",
      "117/117 [==============================] - 74s 630ms/step - loss: 0.0213 - val_loss: 0.0309\n",
      "Epoch 00044: early stopping\n"
     ]
    }
   ],
   "source": [
    "history = model.fit(train_multi_hs, epochs=n_epochs, steps_per_epoch=n_steps_per_epoch,\n",
    "                    validation_data=validation_multi_hs, validation_steps=n_validation_steps, verbose =1,\n",
    "                    callbacks = keras_callbacks)"
   ]
  },
  {
   "cell_type": "code",
   "execution_count": 46,
   "metadata": {},
   "outputs": [
    {
     "data": {
      "image/png": "[encoded data removed]",
      "text/plain": [
       "<Figure size 432x288 with 1 Axes>"
      ]
     },
     "metadata": {
      "needs_background": "light"
     },
     "output_type": "display_data"
    }
   ],
   "source": [
    "loss = history.history['loss']\n",
    "val_loss = history.history['val_loss']\n",
    "\n",
    "epochs = range(1, len(loss) + 1)\n",
    "\n",
    "\n",
    "plt.plot(epochs, loss, 'bo', label='Training loss')\n",
    "plt.plot(epochs, val_loss, 'b', label='Validation loss')\n",
    "plt.title('Training and validation loss')\n",
    "plt.legend()\n",
    "\n",
    "plt.show()"
   ]
  },
  {
   "cell_type": "code",
   "execution_count": 47,
   "metadata": {},
   "outputs": [],
   "source": [
    "trained_bi_lstm_model_multi = tf.keras.models.load_model(model_path)"
   ]
  },
  {
   "cell_type": "code",
   "execution_count": 48,
   "metadata": {},
   "outputs": [
    {
     "data": {
      "text/plain": [
       "array([[0.1462175 , 0.09370288, 0.09414971, 0.16200566, 0.2994798 ,\n",
       "        0.4475533 , 0.56405896, 0.6239846 , 0.6345759 , 0.6265972 ]],\n",
       "      dtype=float32)"
      ]
     },
     "execution_count": 48,
     "metadata": {},
     "output_type": "execute_result"
    }
   ],
   "source": [
    "df_temp = df[features_to_keep]\n",
    "test_horizon = df_temp.tail(multi_hist_window_hs)\n",
    "test_history = test_horizon.values\n",
    "\n",
    "\n",
    "test_scaled = scaler_x.fit_transform(test_history)\n",
    "test_scaled = test_scaled.reshape(1, test_scaled.shape[0], test_scaled.shape[1])\n",
    "\n",
    "# Inserting the model\n",
    "predicted_results = trained_bi_lstm_model_multi.predict(test_scaled)\n",
    "predicted_results"
   ]
  },
  {
   "cell_type": "code",
   "execution_count": 49,
   "metadata": {},
   "outputs": [
    {
     "data": {
      "text/plain": [
       "array([[1064.4634 ,  682.157  ,  685.40985, 1179.4012 , 2180.2131 ,\n",
       "        3258.188  , 4106.349  , 4542.608  , 4619.7124 , 4561.628  ]],\n",
       "      dtype=float32)"
      ]
     },
     "execution_count": 49,
     "metadata": {},
     "output_type": "execute_result"
    }
   ],
   "source": [
    "predicted_inv_trans = scaler_y.inverse_transform(predicted_results)\n",
    "predicted_inv_trans"
   ]
  },
  {
   "cell_type": "code",
   "execution_count": 50,
   "metadata": {},
   "outputs": [
    {
     "name": "stdout",
     "output_type": "stream",
     "text": [
      "MSE is : 8162045.917614721\n",
      "MAE is : 2631.746478271484\n",
      "RMSE is : 2856.92945618451\n",
      "MAPE is : 112.40386017687347\n",
      "R2 is : -4.298923064292916\n",
      "\n"
     ]
    }
   ],
   "source": [
    "timeseries_evaluation_metrics_func(test_data[column_name_criterium], predicted_inv_trans[0])"
   ]
  },
  {
   "cell_type": "code",
   "execution_count": 51,
   "metadata": {},
   "outputs": [],
   "source": [
    "rmse_bi_lstm_model_multi = np.sqrt(metrics.mean_squared_error(test_data[column_name_criterium], predicted_inv_trans[0]))"
   ]
  },
  {
   "cell_type": "code",
   "execution_count": 52,
   "metadata": {},
   "outputs": [
    {
     "data": {
      "image/png": "[encoded data removed]",
      "text/plain": [
       "<Figure size 432x288 with 1 Axes>"
      ]
     },
     "metadata": {
      "needs_background": "light"
     },
     "output_type": "display_data"
    }
   ],
   "source": [
    "plt.plot(list(test_data[column_name_criterium]))\n",
    "plt.plot(list(predicted_inv_trans[0]))\n",
    "plt.title(\"Actual vs Predicted\")\n",
    "plt.ylabel(\"Traffic volume\")\n",
    "plt.legend(('Actual','predicted'))\n",
    "plt.show()"
   ]
  },
  {
   "cell_type": "markdown",
   "metadata": {},
   "source": [
    "## GRU"
   ]
  },
  {
   "cell_type": "code",
   "execution_count": 53,
   "metadata": {},
   "outputs": [],
   "source": [
    "model = tf.keras.models.Sequential([\n",
    "    tf.keras.layers.GRU(100, input_shape=x_train_multi_hs.shape[-2:],return_sequences=True),\n",
    "    tf.keras.layers.Dropout(0.2),\n",
    "    tf.keras.layers.GRU(units=50,return_sequences=False),\n",
    "    tf.keras.layers.Dropout(0.2),\n",
    "    tf.keras.layers.Dense(units=horizon_hs)])\n",
    "\n",
    "model.compile(loss='mse',\n",
    "              optimizer='adam')"
   ]
  },
  {
   "cell_type": "code",
   "execution_count": 54,
   "metadata": {},
   "outputs": [],
   "source": [
    "model_path = 'model/gru_model_multi.h5'"
   ]
  },
  {
   "cell_type": "code",
   "execution_count": 55,
   "metadata": {},
   "outputs": [],
   "source": [
    "keras_callbacks = [tf.keras.callbacks.EarlyStopping(monitor='val_loss', \n",
    "                                                    min_delta=0, patience=10, \n",
    "                                                    verbose=1, mode='min'),\n",
    "                   tf.keras.callbacks.ModelCheckpoint(model_path,monitor='val_loss', \n",
    "                                                      save_best_only=True, \n",
    "                                                      mode='min', verbose=0)]"
   ]
  },
  {
   "cell_type": "code",
   "execution_count": 56,
   "metadata": {},
   "outputs": [
    {
     "name": "stdout",
     "output_type": "stream",
     "text": [
      "Epoch 1/100\n",
      "117/117 [==============================] - 22s 161ms/step - loss: 0.1303 - val_loss: 0.0674\n",
      "Epoch 2/100\n",
      "117/117 [==============================] - 19s 167ms/step - loss: 0.0679 - val_loss: 0.0488\n",
      "Epoch 3/100\n",
      "117/117 [==============================] - 19s 161ms/step - loss: 0.0568 - val_loss: 0.0429\n",
      "Epoch 4/100\n",
      "117/117 [==============================] - 19s 159ms/step - loss: 0.0529 - val_loss: 0.0386\n",
      "Epoch 5/100\n",
      "117/117 [==============================] - 19s 159ms/step - loss: 0.0498 - val_loss: 0.0365\n",
      "Epoch 6/100\n",
      "117/117 [==============================] - 19s 159ms/step - loss: 0.0474 - val_loss: 0.0351\n",
      "Epoch 7/100\n",
      "117/117 [==============================] - 19s 159ms/step - loss: 0.0463 - val_loss: 0.0341\n",
      "Epoch 8/100\n",
      "117/117 [==============================] - 19s 160ms/step - loss: 0.0450 - val_loss: 0.0334\n",
      "Epoch 9/100\n",
      "117/117 [==============================] - 20s 168ms/step - loss: 0.0443 - val_loss: 0.0326\n",
      "Epoch 10/100\n",
      "117/117 [==============================] - 19s 159ms/step - loss: 0.0434 - val_loss: 0.0320\n",
      "Epoch 11/100\n",
      "117/117 [==============================] - 19s 159ms/step - loss: 0.0426 - val_loss: 0.0317\n",
      "Epoch 12/100\n",
      "117/117 [==============================] - 19s 159ms/step - loss: 0.0417 - val_loss: 0.0314\n",
      "Epoch 13/100\n",
      "117/117 [==============================] - 19s 158ms/step - loss: 0.0410 - val_loss: 0.0311\n",
      "Epoch 14/100\n",
      "117/117 [==============================] - 19s 159ms/step - loss: 0.0405 - val_loss: 0.0312\n",
      "Epoch 15/100\n",
      "117/117 [==============================] - 20s 170ms/step - loss: 0.0396 - val_loss: 0.0309\n",
      "Epoch 16/100\n",
      "117/117 [==============================] - 19s 160ms/step - loss: 0.0391 - val_loss: 0.0308\n",
      "Epoch 17/100\n",
      "117/117 [==============================] - 19s 160ms/step - loss: 0.0385 - val_loss: 0.0308\n",
      "Epoch 18/100\n",
      "117/117 [==============================] - 19s 159ms/step - loss: 0.0381 - val_loss: 0.0307\n",
      "Epoch 19/100\n",
      "117/117 [==============================] - 19s 159ms/step - loss: 0.0378 - val_loss: 0.0307\n",
      "Epoch 20/100\n",
      "117/117 [==============================] - 19s 159ms/step - loss: 0.0373 - val_loss: 0.0304\n",
      "Epoch 21/100\n",
      "117/117 [==============================] - 19s 164ms/step - loss: 0.0367 - val_loss: 0.0299\n",
      "Epoch 22/100\n",
      "117/117 [==============================] - 19s 163ms/step - loss: 0.0362 - val_loss: 0.0301\n",
      "Epoch 23/100\n",
      "117/117 [==============================] - 19s 159ms/step - loss: 0.0359 - val_loss: 0.0300\n",
      "Epoch 24/100\n",
      "117/117 [==============================] - 19s 159ms/step - loss: 0.0355 - val_loss: 0.0299\n",
      "Epoch 25/100\n",
      "117/117 [==============================] - 19s 159ms/step - loss: 0.0351 - val_loss: 0.0296\n",
      "Epoch 26/100\n",
      "117/117 [==============================] - 19s 159ms/step - loss: 0.0346 - val_loss: 0.0291\n",
      "Epoch 27/100\n",
      "117/117 [==============================] - 19s 159ms/step - loss: 0.0339 - val_loss: 0.0290\n",
      "Epoch 28/100\n",
      "117/117 [==============================] - 20s 171ms/step - loss: 0.0337 - val_loss: 0.0288\n",
      "Epoch 29/100\n",
      "117/117 [==============================] - 19s 159ms/step - loss: 0.0331 - val_loss: 0.0287\n",
      "Epoch 30/100\n",
      "117/117 [==============================] - 19s 159ms/step - loss: 0.0328 - val_loss: 0.0286\n",
      "Epoch 31/100\n",
      "117/117 [==============================] - 19s 160ms/step - loss: 0.0323 - val_loss: 0.0282\n",
      "Epoch 32/100\n",
      "117/117 [==============================] - 19s 159ms/step - loss: 0.0317 - val_loss: 0.0285\n",
      "Epoch 33/100\n",
      "117/117 [==============================] - 19s 160ms/step - loss: 0.0312 - val_loss: 0.0281\n",
      "Epoch 34/100\n",
      "117/117 [==============================] - 20s 170ms/step - loss: 0.0305 - val_loss: 0.0284\n",
      "Epoch 35/100\n",
      "117/117 [==============================] - 19s 160ms/step - loss: 0.0300 - val_loss: 0.0285\n",
      "Epoch 36/100\n",
      "117/117 [==============================] - 19s 159ms/step - loss: 0.0296 - val_loss: 0.0288\n",
      "Epoch 37/100\n",
      "117/117 [==============================] - 19s 159ms/step - loss: 0.0289 - val_loss: 0.0288\n",
      "Epoch 38/100\n",
      "117/117 [==============================] - 19s 159ms/step - loss: 0.0286 - val_loss: 0.0292\n",
      "Epoch 39/100\n",
      "117/117 [==============================] - 19s 159ms/step - loss: 0.0281 - val_loss: 0.0296\n",
      "Epoch 40/100\n",
      "117/117 [==============================] - 19s 163ms/step - loss: 0.0275 - val_loss: 0.0298\n",
      "Epoch 41/100\n",
      "117/117 [==============================] - 20s 167ms/step - loss: 0.0269 - val_loss: 0.0299\n",
      "Epoch 42/100\n",
      "117/117 [==============================] - 19s 160ms/step - loss: 0.0264 - val_loss: 0.0304\n",
      "Epoch 43/100\n",
      "117/117 [==============================] - 19s 160ms/step - loss: 0.0260 - val_loss: 0.0306\n",
      "Epoch 00043: early stopping\n"
     ]
    }
   ],
   "source": [
    "history = model.fit(train_multi_hs, epochs=n_epochs, steps_per_epoch=n_steps_per_epoch,\n",
    "                    validation_data=validation_multi_hs, validation_steps=n_validation_steps, verbose =1,\n",
    "                    callbacks = keras_callbacks)"
   ]
  },
  {
   "cell_type": "code",
   "execution_count": 57,
   "metadata": {},
   "outputs": [
    {
     "data": {
      "image/png": "[encoded data removed]",
      "text/plain": [
       "<Figure size 432x288 with 1 Axes>"
      ]
     },
     "metadata": {
      "needs_background": "light"
     },
     "output_type": "display_data"
    }
   ],
   "source": [
    "loss = history.history['loss']\n",
    "val_loss = history.history['val_loss']\n",
    "\n",
    "epochs = range(1, len(loss) + 1)\n",
    "\n",
    "\n",
    "plt.plot(epochs, loss, 'bo', label='Training loss')\n",
    "plt.plot(epochs, val_loss, 'b', label='Validation loss')\n",
    "plt.title('Training and validation loss')\n",
    "plt.legend()\n",
    "\n",
    "plt.show()"
   ]
  },
  {
   "cell_type": "code",
   "execution_count": 58,
   "metadata": {},
   "outputs": [],
   "source": [
    "trained_gru_model_multi = tf.keras.models.load_model(model_path)"
   ]
  },
  {
   "cell_type": "code",
   "execution_count": 59,
   "metadata": {},
   "outputs": [
    {
     "data": {
      "text/plain": [
       "array([[0.149925  , 0.11994781, 0.18588951, 0.30544487, 0.46548158,\n",
       "        0.5686811 , 0.60347944, 0.60006154, 0.6138898 , 0.64094937]],\n",
       "      dtype=float32)"
      ]
     },
     "execution_count": 59,
     "metadata": {},
     "output_type": "execute_result"
    }
   ],
   "source": [
    "df_temp = df[features_to_keep]\n",
    "test_horizon = df_temp.tail(multi_hist_window_hs)\n",
    "test_history = test_horizon.values\n",
    "\n",
    "\n",
    "test_scaled = scaler_x.fit_transform(test_history)\n",
    "test_scaled = test_scaled.reshape(1, test_scaled.shape[0], test_scaled.shape[1])\n",
    "\n",
    "# Inserting the model\n",
    "predicted_results = trained_gru_model_multi.predict(test_scaled)\n",
    "predicted_results"
   ]
  },
  {
   "cell_type": "code",
   "execution_count": 60,
   "metadata": {},
   "outputs": [
    {
     "data": {
      "text/plain": [
       "array([[1091.454  ,  873.22003, 1353.2756 , 2223.6387 , 3388.7058 ,\n",
       "        4139.9985 , 4393.3306 , 4368.4478 , 4469.1177 , 4666.1113 ]],\n",
       "      dtype=float32)"
      ]
     },
     "execution_count": 60,
     "metadata": {},
     "output_type": "execute_result"
    }
   ],
   "source": [
    "predicted_inv_trans = scaler_y.inverse_transform(predicted_results)\n",
    "predicted_inv_trans"
   ]
  },
  {
   "cell_type": "code",
   "execution_count": 61,
   "metadata": {},
   "outputs": [
    {
     "name": "stdout",
     "output_type": "stream",
     "text": [
      "MSE is : 6790521.144731341\n",
      "MAE is : 2355.771173095703\n",
      "RMSE is : 2605.8628407365077\n",
      "MAPE is : 105.93741728158004\n",
      "R2 is : -3.4085085376365\n",
      "\n"
     ]
    }
   ],
   "source": [
    "timeseries_evaluation_metrics_func(test_data[column_name_criterium], predicted_inv_trans[0])"
   ]
  },
  {
   "cell_type": "code",
   "execution_count": 62,
   "metadata": {},
   "outputs": [],
   "source": [
    "rmse_gru_model_multi = np.sqrt(metrics.mean_squared_error(test_data[column_name_criterium], predicted_inv_trans[0]))"
   ]
  },
  {
   "cell_type": "code",
   "execution_count": 63,
   "metadata": {},
   "outputs": [
    {
     "data": {
      "image/png": "[encoded data removed]",
      "text/plain": [
       "<Figure size 432x288 with 1 Axes>"
      ]
     },
     "metadata": {
      "needs_background": "light"
     },
     "output_type": "display_data"
    }
   ],
   "source": [
    "plt.plot(list(test_data[column_name_criterium]))\n",
    "plt.plot(list(predicted_inv_trans[0]))\n",
    "plt.title(\"Actual vs Predicted\")\n",
    "plt.ylabel(\"Traffic volume\")\n",
    "plt.legend(('Actual','predicted'))\n",
    "plt.show()"
   ]
  },
  {
   "cell_type": "markdown",
   "metadata": {},
   "source": [
    "## Encoder Decoder LSTM"
   ]
  },
  {
   "cell_type": "code",
   "execution_count": 64,
   "metadata": {},
   "outputs": [],
   "source": [
    "model = tf.keras.models.Sequential([\n",
    "    tf.keras.layers.LSTM(40, input_shape=x_train_multi_hs.shape[-2:], return_sequences=True),\n",
    "    tf.keras.layers.LSTM(units=20,return_sequences=True),\n",
    "    tf.keras.layers.LSTM(units=15),\n",
    "    tf.keras.layers.RepeatVector(y_train_multi_hs.shape[1]), \n",
    "    tf.keras.layers.LSTM(units=40,return_sequences=True),\n",
    "    tf.keras.layers.LSTM(units=25,return_sequences=True),\n",
    "    tf.keras.layers.TimeDistributed(tf.keras.layers.Dense(units=1))])\n",
    "\n",
    "model.compile(loss='mse',\n",
    "              optimizer='adam')"
   ]
  },
  {
   "cell_type": "code",
   "execution_count": 65,
   "metadata": {},
   "outputs": [],
   "source": [
    "model_path = 'model/ed_lstm_model_multi.h5'"
   ]
  },
  {
   "cell_type": "code",
   "execution_count": 66,
   "metadata": {},
   "outputs": [],
   "source": [
    "keras_callbacks = [tf.keras.callbacks.EarlyStopping(monitor='val_loss', \n",
    "                                                    min_delta=0, patience=10, \n",
    "                                                    verbose=1, mode='min'),\n",
    "                   tf.keras.callbacks.ModelCheckpoint(model_path,monitor='val_loss', \n",
    "                                                      save_best_only=True, \n",
    "                                                      mode='min', verbose=0)]"
   ]
  },
  {
   "cell_type": "code",
   "execution_count": 67,
   "metadata": {},
   "outputs": [
    {
     "name": "stdout",
     "output_type": "stream",
     "text": [
      "Epoch 1/100\n",
      "117/117 [==============================] - 25s 154ms/step - loss: 0.1263 - val_loss: 0.0808\n",
      "Epoch 2/100\n",
      "117/117 [==============================] - 13s 111ms/step - loss: 0.0790 - val_loss: 0.0751\n",
      "Epoch 3/100\n",
      "117/117 [==============================] - 13s 114ms/step - loss: 0.0765 - val_loss: 0.0735\n",
      "Epoch 4/100\n",
      "117/117 [==============================] - 14s 121ms/step - loss: 0.0750 - val_loss: 0.0588\n",
      "Epoch 5/100\n",
      "117/117 [==============================] - 14s 120ms/step - loss: 0.0587 - val_loss: 0.0476\n",
      "Epoch 6/100\n",
      "117/117 [==============================] - 13s 114ms/step - loss: 0.0533 - val_loss: 0.0455\n",
      "Epoch 7/100\n",
      "117/117 [==============================] - 13s 114ms/step - loss: 0.0510 - val_loss: 0.0438\n",
      "Epoch 8/100\n",
      "117/117 [==============================] - 13s 111ms/step - loss: 0.0491 - val_loss: 0.0419\n",
      "Epoch 9/100\n",
      "117/117 [==============================] - 13s 112ms/step - loss: 0.0473 - val_loss: 0.0406\n",
      "Epoch 10/100\n",
      "117/117 [==============================] - 12s 104ms/step - loss: 0.0461 - val_loss: 0.0396\n",
      "Epoch 11/100\n",
      "117/117 [==============================] - 12s 102ms/step - loss: 0.0448 - val_loss: 0.0388\n",
      "Epoch 12/100\n",
      "117/117 [==============================] - 12s 104ms/step - loss: 0.0438 - val_loss: 0.0379\n",
      "Epoch 13/100\n",
      "117/117 [==============================] - 13s 107ms/step - loss: 0.0427 - val_loss: 0.0371\n",
      "Epoch 14/100\n",
      "117/117 [==============================] - 13s 107ms/step - loss: 0.0419 - val_loss: 0.0366\n",
      "Epoch 15/100\n",
      "117/117 [==============================] - 12s 101ms/step - loss: 0.0412 - val_loss: 0.0358\n",
      "Epoch 16/100\n",
      "117/117 [==============================] - 12s 105ms/step - loss: 0.0405 - val_loss: 0.0355\n",
      "Epoch 17/100\n",
      "117/117 [==============================] - 13s 111ms/step - loss: 0.0397 - val_loss: 0.0357\n",
      "Epoch 18/100\n",
      "117/117 [==============================] - 13s 115ms/step - loss: 0.0392 - val_loss: 0.0358\n",
      "Epoch 19/100\n",
      "117/117 [==============================] - 13s 114ms/step - loss: 0.0386 - val_loss: 0.0354\n",
      "Epoch 20/100\n",
      "117/117 [==============================] - 14s 116ms/step - loss: 0.0381 - val_loss: 0.0348\n",
      "Epoch 21/100\n",
      "117/117 [==============================] - 14s 116ms/step - loss: 0.0377 - val_loss: 0.0345\n",
      "Epoch 22/100\n",
      "117/117 [==============================] - 13s 115ms/step - loss: 0.0373 - val_loss: 0.0339\n",
      "Epoch 23/100\n",
      "117/117 [==============================] - 12s 106ms/step - loss: 0.0368 - val_loss: 0.0339\n",
      "Epoch 24/100\n",
      "117/117 [==============================] - 12s 100ms/step - loss: 0.0364 - val_loss: 0.0331\n",
      "Epoch 25/100\n",
      "117/117 [==============================] - 12s 101ms/step - loss: 0.0359 - val_loss: 0.0328\n",
      "Epoch 26/100\n",
      "117/117 [==============================] - 13s 115ms/step - loss: 0.0355 - val_loss: 0.0326\n",
      "Epoch 27/100\n",
      "117/117 [==============================] - 14s 116ms/step - loss: 0.0350 - val_loss: 0.0323\n",
      "Epoch 28/100\n",
      "117/117 [==============================] - 14s 116ms/step - loss: 0.0346 - val_loss: 0.0322\n",
      "Epoch 29/100\n",
      "117/117 [==============================] - 13s 108ms/step - loss: 0.0341 - val_loss: 0.0322\n",
      "Epoch 30/100\n",
      "117/117 [==============================] - 12s 105ms/step - loss: 0.0337 - val_loss: 0.0323\n",
      "Epoch 31/100\n",
      "117/117 [==============================] - 13s 108ms/step - loss: 0.0332 - val_loss: 0.0324\n",
      "Epoch 32/100\n",
      "117/117 [==============================] - 13s 112ms/step - loss: 0.0328 - val_loss: 0.0327\n",
      "Epoch 33/100\n",
      "117/117 [==============================] - 13s 115ms/step - loss: 0.0325 - val_loss: 0.0332\n",
      "Epoch 34/100\n",
      "117/117 [==============================] - 13s 115ms/step - loss: 0.0322 - val_loss: 0.0329\n",
      "Epoch 35/100\n",
      "117/117 [==============================] - 14s 116ms/step - loss: 0.0318 - val_loss: 0.0331\n",
      "Epoch 36/100\n",
      "117/117 [==============================] - 14s 117ms/step - loss: 0.0312 - val_loss: 0.0331\n",
      "Epoch 37/100\n",
      "117/117 [==============================] - 14s 116ms/step - loss: 0.0307 - val_loss: 0.0333\n",
      "Epoch 38/100\n",
      "117/117 [==============================] - 14s 116ms/step - loss: 0.0303 - val_loss: 0.0335\n",
      "Epoch 39/100\n",
      "117/117 [==============================] - 14s 117ms/step - loss: 0.0299 - val_loss: 0.0334\n",
      "Epoch 00039: early stopping\n"
     ]
    }
   ],
   "source": [
    "history = model.fit(train_multi_hs, epochs=n_epochs, steps_per_epoch=n_steps_per_epoch,\n",
    "                    validation_data=validation_multi_hs, validation_steps=n_validation_steps, verbose =1,\n",
    "                    callbacks = keras_callbacks)"
   ]
  },
  {
   "cell_type": "code",
   "execution_count": 68,
   "metadata": {},
   "outputs": [
    {
     "data": {
      "image/png": "[encoded data removed]",
      "text/plain": [
       "<Figure size 432x288 with 1 Axes>"
      ]
     },
     "metadata": {
      "needs_background": "light"
     },
     "output_type": "display_data"
    }
   ],
   "source": [
    "loss = history.history['loss']\n",
    "val_loss = history.history['val_loss']\n",
    "\n",
    "epochs = range(1, len(loss) + 1)\n",
    "\n",
    "\n",
    "plt.plot(epochs, loss, 'bo', label='Training loss')\n",
    "plt.plot(epochs, val_loss, 'b', label='Validation loss')\n",
    "plt.title('Training and validation loss')\n",
    "plt.legend()\n",
    "\n",
    "plt.show()"
   ]
  },
  {
   "cell_type": "code",
   "execution_count": 69,
   "metadata": {},
   "outputs": [],
   "source": [
    "trained_ed_lstm_model_multi = tf.keras.models.load_model(model_path)"
   ]
  },
  {
   "cell_type": "code",
   "execution_count": null,
   "metadata": {},
   "outputs": [],
   "source": []
  },
  {
   "cell_type": "code",
   "execution_count": 70,
   "metadata": {},
   "outputs": [
    {
     "data": {
      "text/plain": [
       "array([[[0.19395179],\n",
       "        [0.16138805],\n",
       "        [0.15746447],\n",
       "        [0.2061087 ],\n",
       "        [0.31133288],\n",
       "        [0.4591507 ],\n",
       "        [0.59601533],\n",
       "        [0.6655741 ],\n",
       "        [0.66637737],\n",
       "        [0.62954354]]], dtype=float32)"
      ]
     },
     "execution_count": 70,
     "metadata": {},
     "output_type": "execute_result"
    }
   ],
   "source": [
    "df_temp = df[features_to_keep]\n",
    "test_horizon = df_temp.tail(multi_hist_window_hs)\n",
    "test_history = test_horizon.values\n",
    "\n",
    "\n",
    "test_scaled = scaler_x.fit_transform(test_history)\n",
    "test_scaled = test_scaled.reshape(1, test_scaled.shape[0], test_scaled.shape[1])\n",
    "\n",
    "# Inserting the model\n",
    "predicted_results = trained_ed_lstm_model_multi.predict(test_scaled)\n",
    "predicted_results"
   ]
  },
  {
   "cell_type": "code",
   "execution_count": 71,
   "metadata": {},
   "outputs": [
    {
     "data": {
      "text/plain": [
       "array([[1411.969 ],\n",
       "       [1174.905 ],\n",
       "       [1146.3414],\n",
       "       [1500.4713],\n",
       "       [2266.5034],\n",
       "       [3342.6172],\n",
       "       [4338.9917],\n",
       "       [4845.3794],\n",
       "       [4851.227 ],\n",
       "       [4583.077 ]], dtype=float32)"
      ]
     },
     "execution_count": 71,
     "metadata": {},
     "output_type": "execute_result"
    }
   ],
   "source": [
    "predicted_inv_trans = scaler_y.inverse_transform(predicted_results.reshape(-1,1))\n",
    "predicted_inv_trans"
   ]
  },
  {
   "cell_type": "code",
   "execution_count": 72,
   "metadata": {},
   "outputs": [
    {
     "name": "stdout",
     "output_type": "stream",
     "text": [
      "MSE is : 7448381.161058059\n",
      "MAE is : 2531.2867919921873\n",
      "RMSE is : 2729.172248330629\n",
      "MAPE is : 67.50875144839114\n",
      "R2 is : -3.8356011623014314\n",
      "\n"
     ]
    }
   ],
   "source": [
    "timeseries_evaluation_metrics_func(test_data[column_name_criterium], predicted_inv_trans)"
   ]
  },
  {
   "cell_type": "code",
   "execution_count": 73,
   "metadata": {},
   "outputs": [],
   "source": [
    "rmse_ed_lstm_model_multi = np.sqrt(metrics.mean_squared_error(test_data[column_name_criterium], predicted_inv_trans))"
   ]
  },
  {
   "cell_type": "code",
   "execution_count": 74,
   "metadata": {},
   "outputs": [
    {
     "data": {
      "image/png": "[encoded data removed]",
      "text/plain": [
       "<Figure size 432x288 with 1 Axes>"
      ]
     },
     "metadata": {
      "needs_background": "light"
     },
     "output_type": "display_data"
    }
   ],
   "source": [
    "plt.plot(list(test_data[column_name_criterium]))\n",
    "plt.plot(list(predicted_inv_trans))\n",
    "plt.title(\"Actual vs Predicted\")\n",
    "plt.ylabel(\"Traffic volume\")\n",
    "plt.legend(('Actual','predicted'))\n",
    "plt.show()"
   ]
  },
  {
   "cell_type": "markdown",
   "metadata": {},
   "source": [
    "## CNN"
   ]
  },
  {
   "cell_type": "code",
   "execution_count": 75,
   "metadata": {},
   "outputs": [],
   "source": [
    "model = tf.keras.models.Sequential()\n",
    "model.add(tf.keras.layers.Conv1D(filters=64, kernel_size=3, activation='relu', \n",
    "                                 input_shape=(x_train_multi_hs.shape[1], x_train_multi_hs.shape[2])))\n",
    "model.add(tf.keras.layers.MaxPool1D(pool_size=2))\n",
    "model.add(tf.keras.layers.Dropout(0.2))\n",
    "model.add(tf.keras.layers.Flatten())\n",
    "model.add(tf.keras.layers.Dense(30, activation='relu'))\n",
    "model.add(tf.keras.layers.Dropout(0.2))\n",
    "model.add(tf.keras.layers.Dense(units=horizon_hs))\n",
    "\n",
    "model.compile(loss='mse',\n",
    "              optimizer='adam')"
   ]
  },
  {
   "cell_type": "code",
   "execution_count": 76,
   "metadata": {},
   "outputs": [],
   "source": [
    "model_path = 'model/cnn_model_multi.h5'"
   ]
  },
  {
   "cell_type": "code",
   "execution_count": 77,
   "metadata": {},
   "outputs": [],
   "source": [
    "keras_callbacks = [tf.keras.callbacks.EarlyStopping(monitor='val_loss', \n",
    "                                                    min_delta=0, patience=10, \n",
    "                                                    verbose=1, mode='min'),\n",
    "                   tf.keras.callbacks.ModelCheckpoint(model_path,monitor='val_loss', \n",
    "                                                      save_best_only=True, \n",
    "                                                      mode='min', verbose=0)]"
   ]
  },
  {
   "cell_type": "code",
   "execution_count": 78,
   "metadata": {},
   "outputs": [
    {
     "name": "stdout",
     "output_type": "stream",
     "text": [
      "Epoch 1/100\n",
      "117/117 [==============================] - 3s 22ms/step - loss: 0.1371 - val_loss: 0.0602\n",
      "Epoch 2/100\n",
      "117/117 [==============================] - 2s 21ms/step - loss: 0.0757 - val_loss: 0.0542\n",
      "Epoch 3/100\n",
      "117/117 [==============================] - 2s 19ms/step - loss: 0.0672 - val_loss: 0.0503\n",
      "Epoch 4/100\n",
      "117/117 [==============================] - 2s 20ms/step - loss: 0.0613 - val_loss: 0.0485\n",
      "Epoch 5/100\n",
      "117/117 [==============================] - 2s 19ms/step - loss: 0.0580 - val_loss: 0.0470\n",
      "Epoch 6/100\n",
      "117/117 [==============================] - 2s 19ms/step - loss: 0.0557 - val_loss: 0.0457\n",
      "Epoch 7/100\n",
      "117/117 [==============================] - 2s 19ms/step - loss: 0.0533 - val_loss: 0.0441\n",
      "Epoch 8/100\n",
      "117/117 [==============================] - 2s 19ms/step - loss: 0.0514 - val_loss: 0.0420\n",
      "Epoch 9/100\n",
      "117/117 [==============================] - 2s 19ms/step - loss: 0.0493 - val_loss: 0.0407\n",
      "Epoch 10/100\n",
      "117/117 [==============================] - 2s 19ms/step - loss: 0.0478 - val_loss: 0.0395\n",
      "Epoch 11/100\n",
      "117/117 [==============================] - 2s 21ms/step - loss: 0.0462 - val_loss: 0.0382\n",
      "Epoch 12/100\n",
      "117/117 [==============================] - 2s 19ms/step - loss: 0.0447 - val_loss: 0.0373\n",
      "Epoch 13/100\n",
      "117/117 [==============================] - ETA: 0s - loss: 0.043 - 2s 20ms/step - loss: 0.0430 - val_loss: 0.0365\n",
      "Epoch 14/100\n",
      "117/117 [==============================] - 2s 20ms/step - loss: 0.0418 - val_loss: 0.0365\n",
      "Epoch 15/100\n",
      "117/117 [==============================] - 2s 19ms/step - loss: 0.0407 - val_loss: 0.0368\n",
      "Epoch 16/100\n",
      "117/117 [==============================] - 2s 20ms/step - loss: 0.0397 - val_loss: 0.0366\n",
      "Epoch 17/100\n",
      "117/117 [==============================] - 2s 20ms/step - loss: 0.0387 - val_loss: 0.0364\n",
      "Epoch 18/100\n",
      "117/117 [==============================] - 2s 19ms/step - loss: 0.0378 - val_loss: 0.0364\n",
      "Epoch 19/100\n",
      "117/117 [==============================] - 2s 19ms/step - loss: 0.0370 - val_loss: 0.0362\n",
      "Epoch 20/100\n",
      "117/117 [==============================] - 2s 19ms/step - loss: 0.0362 - val_loss: 0.0362\n",
      "Epoch 21/100\n",
      "117/117 [==============================] - 2s 18ms/step - loss: 0.0357 - val_loss: 0.0362\n",
      "Epoch 22/100\n",
      "117/117 [==============================] - 2s 19ms/step - loss: 0.0351 - val_loss: 0.0361\n",
      "Epoch 23/100\n",
      "117/117 [==============================] - 2s 19ms/step - loss: 0.0345 - val_loss: 0.0359\n",
      "Epoch 24/100\n",
      "117/117 [==============================] - 2s 18ms/step - loss: 0.0340 - val_loss: 0.0362\n",
      "Epoch 25/100\n",
      "117/117 [==============================] - 2s 18ms/step - loss: 0.0335 - val_loss: 0.0362 ETA: 1s - loss: 0.\n",
      "Epoch 26/100\n",
      "117/117 [==============================] - 2s 19ms/step - loss: 0.0333 - val_loss: 0.0360\n",
      "Epoch 27/100\n",
      "117/117 [==============================] - 2s 19ms/step - loss: 0.0327 - val_loss: 0.0363\n",
      "Epoch 28/100\n",
      "117/117 [==============================] - 2s 19ms/step - loss: 0.0322 - val_loss: 0.0369\n",
      "Epoch 29/100\n",
      "117/117 [==============================] - 2s 20ms/step - loss: 0.0319 - val_loss: 0.0364\n",
      "Epoch 30/100\n",
      "117/117 [==============================] - 2s 19ms/step - loss: 0.0317 - val_loss: 0.0365\n",
      "Epoch 31/100\n",
      "117/117 [==============================] - 2s 20ms/step - loss: 0.0312 - val_loss: 0.0367- ETA: 1s - los - ETA\n",
      "Epoch 32/100\n",
      "117/117 [==============================] - 2s 18ms/step - loss: 0.0310 - val_loss: 0.0372\n",
      "Epoch 33/100\n",
      "117/117 [==============================] - 2s 19ms/step - loss: 0.0306 - val_loss: 0.0374\n",
      "Epoch 00033: early stopping\n"
     ]
    }
   ],
   "source": [
    "history = model.fit(train_multi_hs, epochs=n_epochs, steps_per_epoch=n_steps_per_epoch,\n",
    "                    validation_data=validation_multi_hs, validation_steps=n_validation_steps, verbose =1,\n",
    "                    callbacks = keras_callbacks)"
   ]
  },
  {
   "cell_type": "code",
   "execution_count": 79,
   "metadata": {},
   "outputs": [
    {
     "data": {
      "image/png": "[encoded data removed]",
      "text/plain": [
       "<Figure size 432x288 with 1 Axes>"
      ]
     },
     "metadata": {
      "needs_background": "light"
     },
     "output_type": "display_data"
    }
   ],
   "source": [
    "loss = history.history['loss']\n",
    "val_loss = history.history['val_loss']\n",
    "\n",
    "epochs = range(1, len(loss) + 1)\n",
    "\n",
    "\n",
    "plt.plot(epochs, loss, 'bo', label='Training loss')\n",
    "plt.plot(epochs, val_loss, 'b', label='Validation loss')\n",
    "plt.title('Training and validation loss')\n",
    "plt.legend()\n",
    "\n",
    "plt.show()"
   ]
  },
  {
   "cell_type": "code",
   "execution_count": 80,
   "metadata": {},
   "outputs": [],
   "source": [
    "trained_cnn_model_multi = tf.keras.models.load_model(model_path)"
   ]
  },
  {
   "cell_type": "code",
   "execution_count": 81,
   "metadata": {},
   "outputs": [
    {
     "name": "stdout",
     "output_type": "stream",
     "text": [
      "WARNING:tensorflow:5 out of the last 5 calls to <function Model.make_predict_function.<locals>.predict_function at 0x000001A372E13620> triggered tf.function retracing. Tracing is expensive and the excessive number of tracings could be due to (1) creating @tf.function repeatedly in a loop, (2) passing tensors with different shapes, (3) passing Python objects instead of tensors. For (1), please define your @tf.function outside of the loop. For (2), @tf.function has experimental_relax_shapes=True option that relaxes argument shapes that can avoid unnecessary retracing. For (3), please refer to https://www.tensorflow.org/guide/function#controlling_retracing and https://www.tensorflow.org/api_docs/python/tf/function for  more details.\n"
     ]
    },
    {
     "data": {
      "text/plain": [
       "array([[0.5794493 , 0.6266309 , 0.6018325 , 0.53801847, 0.48688594,\n",
       "        0.45493013, 0.41465926, 0.38147846, 0.36410382, 0.41638726]],\n",
       "      dtype=float32)"
      ]
     },
     "execution_count": 81,
     "metadata": {},
     "output_type": "execute_result"
    }
   ],
   "source": [
    "df_temp = df[features_to_keep]\n",
    "test_horizon = df_temp.tail(multi_hist_window_hs)\n",
    "test_history = test_horizon.values\n",
    "\n",
    "\n",
    "test_scaled = scaler_x.fit_transform(test_history)\n",
    "test_scaled = test_scaled.reshape(1, test_scaled.shape[0], test_scaled.shape[1])\n",
    "\n",
    "# Inserting the model\n",
    "predicted_results = trained_cnn_model_multi.predict(test_scaled)\n",
    "predicted_results"
   ]
  },
  {
   "cell_type": "code",
   "execution_count": 82,
   "metadata": {},
   "outputs": [
    {
     "data": {
      "text/plain": [
       "array([[4218.391 , 4561.873 , 4381.341 , 3916.7744, 3544.5295, 3311.8914,\n",
       "        3018.7195, 2777.163 , 2650.6758, 3031.2993]], dtype=float32)"
      ]
     },
     "execution_count": 82,
     "metadata": {},
     "output_type": "execute_result"
    }
   ],
   "source": [
    "predicted_inv_trans = scaler_y.inverse_transform(predicted_results)\n",
    "predicted_inv_trans"
   ]
  },
  {
   "cell_type": "code",
   "execution_count": 83,
   "metadata": {},
   "outputs": [
    {
     "name": "stdout",
     "output_type": "stream",
     "text": [
      "MSE is : 651139.4890260398\n",
      "MAE is : 530.6485107421875\n",
      "RMSE is : 806.932146481995\n",
      "MAPE is : 36.70383676400023\n",
      "R2 is : 0.5772704428156029\n",
      "\n"
     ]
    }
   ],
   "source": [
    "timeseries_evaluation_metrics_func(test_data[column_name_criterium], predicted_inv_trans[0])"
   ]
  },
  {
   "cell_type": "code",
   "execution_count": 84,
   "metadata": {},
   "outputs": [],
   "source": [
    "rmse_cnn_model_multi = np.sqrt(metrics.mean_squared_error(test_data[column_name_criterium], predicted_inv_trans[0]))"
   ]
  },
  {
   "cell_type": "code",
   "execution_count": 85,
   "metadata": {},
   "outputs": [
    {
     "data": {
      "image/png": "[encoded data removed]",
      "text/plain": [
       "<Figure size 432x288 with 1 Axes>"
      ]
     },
     "metadata": {
      "needs_background": "light"
     },
     "output_type": "display_data"
    }
   ],
   "source": [
    "plt.plot(list(test_data[column_name_criterium]))\n",
    "plt.plot(list(predicted_inv_trans[0]))\n",
    "plt.title(\"Actual vs Predicted\")\n",
    "plt.ylabel(\"Traffic volume\")\n",
    "plt.legend(('Actual','predicted'))\n",
    "plt.show()"
   ]
  },
  {
   "cell_type": "markdown",
   "metadata": {},
   "source": [
    "# Get the Best Model"
   ]
  },
  {
   "cell_type": "code",
   "execution_count": 86,
   "metadata": {},
   "outputs": [
    {
     "data": {
      "text/html": [
       "<div>\n",
       "<style scoped>\n",
       "    .dataframe tbody tr th:only-of-type {\n",
       "        vertical-align: middle;\n",
       "    }\n",
       "\n",
       "    .dataframe tbody tr th {\n",
       "        vertical-align: top;\n",
       "    }\n",
       "\n",
       "    .dataframe thead th {\n",
       "        text-align: right;\n",
       "    }\n",
       "</style>\n",
       "<table border=\"1\" class=\"dataframe\">\n",
       "  <thead>\n",
       "    <tr style=\"text-align: right;\">\n",
       "      <th></th>\n",
       "      <th>Model</th>\n",
       "      <th>RMSE</th>\n",
       "    </tr>\n",
       "  </thead>\n",
       "  <tbody>\n",
       "    <tr>\n",
       "      <th>0</th>\n",
       "      <td>lstm_model_multi</td>\n",
       "      <td>3165.725267</td>\n",
       "    </tr>\n",
       "    <tr>\n",
       "      <th>0</th>\n",
       "      <td>bi_lstm_model_multi</td>\n",
       "      <td>2856.929456</td>\n",
       "    </tr>\n",
       "    <tr>\n",
       "      <th>0</th>\n",
       "      <td>gru_model_multi</td>\n",
       "      <td>2605.862841</td>\n",
       "    </tr>\n",
       "    <tr>\n",
       "      <th>0</th>\n",
       "      <td>ed_lstm_model_multi</td>\n",
       "      <td>2729.172248</td>\n",
       "    </tr>\n",
       "    <tr>\n",
       "      <th>0</th>\n",
       "      <td>cnn_model_multi</td>\n",
       "      <td>806.932146</td>\n",
       "    </tr>\n",
       "  </tbody>\n",
       "</table>\n",
       "</div>"
      ],
      "text/plain": [
       "                 Model         RMSE\n",
       "0     lstm_model_multi  3165.725267\n",
       "0  bi_lstm_model_multi  2856.929456\n",
       "0      gru_model_multi  2605.862841\n",
       "0  ed_lstm_model_multi  2729.172248\n",
       "0      cnn_model_multi   806.932146"
      ]
     },
     "execution_count": 86,
     "metadata": {},
     "output_type": "execute_result"
    }
   ],
   "source": [
    "column_names = [\"Model\", \"RMSE\"]\n",
    "df = pd.DataFrame(columns = column_names)\n",
    "\n",
    "rmse_lstm_model_multi_df = pd.DataFrame([('lstm_model_multi', rmse_lstm_model_multi)], columns=column_names)\n",
    "df = df.append(rmse_lstm_model_multi_df)\n",
    "\n",
    "rmse_bi_lstm_model_multi_df = pd.DataFrame([('bi_lstm_model_multi', rmse_bi_lstm_model_multi)], columns=column_names)\n",
    "df = df.append(rmse_bi_lstm_model_multi_df)\n",
    "\n",
    "rmse_gru_model_multi_df = pd.DataFrame([('gru_model_multi', rmse_gru_model_multi)], columns=column_names)\n",
    "df = df.append(rmse_gru_model_multi_df)\n",
    "\n",
    "rmse_ed_lstm_model_multi_df = pd.DataFrame([('ed_lstm_model_multi', rmse_ed_lstm_model_multi)], columns=column_names)\n",
    "df = df.append(rmse_ed_lstm_model_multi_df)\n",
    "\n",
    "rmse_cnn_model_multi_df = pd.DataFrame([('cnn_model_multi', rmse_cnn_model_multi)], columns=column_names)\n",
    "df = df.append(rmse_cnn_model_multi_df)\n",
    "\n",
    "df"
   ]
  },
  {
   "cell_type": "code",
   "execution_count": 87,
   "metadata": {},
   "outputs": [
    {
     "data": {
      "text/html": [
       "<div>\n",
       "<style scoped>\n",
       "    .dataframe tbody tr th:only-of-type {\n",
       "        vertical-align: middle;\n",
       "    }\n",
       "\n",
       "    .dataframe tbody tr th {\n",
       "        vertical-align: top;\n",
       "    }\n",
       "\n",
       "    .dataframe thead th {\n",
       "        text-align: right;\n",
       "    }\n",
       "</style>\n",
       "<table border=\"1\" class=\"dataframe\">\n",
       "  <thead>\n",
       "    <tr style=\"text-align: right;\">\n",
       "      <th></th>\n",
       "      <th>Model</th>\n",
       "      <th>RMSE</th>\n",
       "    </tr>\n",
       "  </thead>\n",
       "  <tbody>\n",
       "    <tr>\n",
       "      <th>0</th>\n",
       "      <td>cnn_model_multi</td>\n",
       "      <td>806.932146</td>\n",
       "    </tr>\n",
       "    <tr>\n",
       "      <th>0</th>\n",
       "      <td>gru_model_multi</td>\n",
       "      <td>2605.862841</td>\n",
       "    </tr>\n",
       "    <tr>\n",
       "      <th>0</th>\n",
       "      <td>ed_lstm_model_multi</td>\n",
       "      <td>2729.172248</td>\n",
       "    </tr>\n",
       "    <tr>\n",
       "      <th>0</th>\n",
       "      <td>bi_lstm_model_multi</td>\n",
       "      <td>2856.929456</td>\n",
       "    </tr>\n",
       "    <tr>\n",
       "      <th>0</th>\n",
       "      <td>lstm_model_multi</td>\n",
       "      <td>3165.725267</td>\n",
       "    </tr>\n",
       "  </tbody>\n",
       "</table>\n",
       "</div>"
      ],
      "text/plain": [
       "                 Model         RMSE\n",
       "0      cnn_model_multi   806.932146\n",
       "0      gru_model_multi  2605.862841\n",
       "0  ed_lstm_model_multi  2729.172248\n",
       "0  bi_lstm_model_multi  2856.929456\n",
       "0     lstm_model_multi  3165.725267"
      ]
     },
     "execution_count": 87,
     "metadata": {},
     "output_type": "execute_result"
    }
   ],
   "source": [
    "best_model = df.sort_values(by='RMSE', ascending=True)\n",
    "best_model"
   ]
  },
  {
   "cell_type": "code",
   "execution_count": null,
   "metadata": {},
   "outputs": [],
   "source": []
  },
  {
   "cell_type": "code",
   "execution_count": null,
   "metadata": {},
   "outputs": [],
   "source": []
  },
  {
   "cell_type": "code",
   "execution_count": null,
   "metadata": {},
   "outputs": [],
   "source": []
  },
  {
   "cell_type": "code",
   "execution_count": null,
   "metadata": {},
   "outputs": [],
   "source": []
  },
  {
   "cell_type": "code",
   "execution_count": null,
   "metadata": {},
   "outputs": [],
   "source": []
  },
  {
   "cell_type": "code",
   "execution_count": null,
   "metadata": {},
   "outputs": [],
   "source": []
  },
  {
   "cell_type": "code",
   "execution_count": null,
   "metadata": {},
   "outputs": [],
   "source": []
  }
 ],
 "metadata": {
  "kernelspec": {
   "display_name": "Python 3",
   "language": "python",
   "name": "python3"
  },
  "language_info": {
   "codemirror_mode": {
    "name": "ipython",
    "version": 3
   },
   "file_extension": ".py",
   "mimetype": "text/x-python",
   "name": "python",
   "nbconvert_exporter": "python",
   "pygments_lexer": "ipython3",
   "version": "3.6.8"
  },
  "toc": {
   "base_numbering": 1,
   "nav_menu": {},
   "number_sections": true,
   "sideBar": true,
   "skip_h1_title": false,
   "title_cell": "Table of Contents",
   "title_sidebar": "Contents",
   "toc_cell": false,
   "toc_position": {
    "height": "calc(100% - 180px)",
    "left": "10px",
    "top": "150px",
    "width": "384px"
   },
   "toc_section_display": true,
   "toc_window_display": true
  }
 },
 "nbformat": 4,
 "nbformat_minor": 2
}
